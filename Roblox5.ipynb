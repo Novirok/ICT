{
 "cells": [
  {
   "attachments": {},
   "cell_type": "markdown",
   "metadata": {},
   "source": [
    "# Oblečky\n",
    "I když jsem chtěl jen game dev, je tu i možnost vytvářet oblečení pro samotné postavičky na robloxu (Avatary)<br>\n",
    "Na stránce je \"Avatar shop\" ve kterém si tyto oblečky a doplňky na postavu můžete koupit za RBX, nebo jsou zadarmo (vždy jsou hezčí ty, co jsou za RBX)<br>\n",
    "Oblečení je od samotného ROBLOXu, ale také od lidí co je vytvářejí, stačí trochu zkušenosti v microsoft paint a jste profesionální designer roblox oblečení. Můžete je dávat do obchodu group, nebo na samotný avatar shop.\n"
   ]
  }
 ],
 "metadata": {
  "language_info": {
   "name": "python"
  },
  "orig_nbformat": 4
 },
 "nbformat": 4,
 "nbformat_minor": 2
}
