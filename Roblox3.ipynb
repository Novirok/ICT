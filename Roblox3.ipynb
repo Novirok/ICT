{
 "cells": [
  {
   "attachments": {},
   "cell_type": "markdown",
   "metadata": {},
   "source": [
    "# Jak na profit bez snahy:\n",
    "1. Buď bohatý\n",
    "2. Najdi jednoduchou hru s málo hráči\n",
    "3. Zkopíruj hru\n",
    "4. Vydej jí\n",
    "5. Několikrát zopakuj\n",
    "6. Vytvoř skupinu kde ty hry budeš vydávat\n",
    "7. 🤑🤑\n",
    "<br>\n",
    "<br>\n",
    "<br>\n",
    "Na ROBLOXu existuje spousta her které jsou prakticky identické a jednoduché. Ta, která bude mít nejvíce hráču, bude ta, která zaplatí nejvíce za reklamy.<br>\n",
    "Tyhle hry jsou hlouposti jako třeba simon says, musical chairs a takové blbůstky.<br>\n",
    "Cash grab skrz RBX, jako se třeba oživit zpátky do hry, koupit si předměty co vám pomůžou ve hře, nebo jenom pitomé doplňky aby jste měli hustější efekty než ten vedle vás."
   ]
  }
 ],
 "metadata": {
  "language_info": {
   "name": "python"
  },
  "orig_nbformat": 4
 },
 "nbformat": 4,
 "nbformat_minor": 2
}
