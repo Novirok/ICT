{
 "cells": [
  {
   "attachments": {},
   "cell_type": "markdown",
   "metadata": {},
   "source": [
    "# Jak na roblox 101:\n",
    "1. Skrze aplikaci \"Roblox Studio\" se staví celá samotná hra.\n",
    "2. Můžete v knihovnách hledat jednoduché modely objektů, kusy kodu, sound effecty...\n",
    "3. Roblox LUA je celkem jednoduchý jazyk, který se dá naučit rychle.\n",
    "4. S Roblox LUA napíšete kod na cokoliv, base hra už tam vždy bude na ovládání postavy, pohyb kamerou, postavička, atd...\n",
    "5. Vložíte do hry věci co se dají koupit za peníze (Robux[RBX])\n",
    "6. Když hráči co mají status PREMIUM Roblox kliknou na PLAY vaší hry, dostanete 1 RBX.\n",
    "7. Můžete za cenu pár RBX najmout lidi co vám udělají kod za vás, pokud vám kodování nejde."
   ]
  }
 ],
 "metadata": {
  "language_info": {
   "name": "python"
  },
  "orig_nbformat": 4
 },
 "nbformat": 4,
 "nbformat_minor": 2
}
