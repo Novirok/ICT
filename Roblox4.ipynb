{
 "cells": [
  {
   "attachments": {},
   "cell_type": "markdown",
   "metadata": {},
   "source": [
    "# Reklamy\n",
    "Na internetové stránce robloxu jsou reklamy.<br>\n",
    "Reklamy jsou ale od lidí co dělají hry, zaplatí určitou částku RBX, a podle částky se ukazuje reklama víc nebo míň, reklama je ve formě baneru na který dáte cokoliv co chcete aby vám na ní hráč kliknul.(Musí dodržovat roblox pravidla)<br>\n",
    "Často lidi do reklam dávají známe Youtubery se slovy jako \"JmenoYoutubera hrál naší hru a líbila se mu!\" nebo taky \"Hej JmenoYoutubera! Máš admin commandy\"<br>\n",
    "Existují i \"groupky\" které v podstatě jen dělají Roleplay na věci jako fast food, café, armáda, atd... Na group stánku se taky dají udělat reklamy.<br>"
   ]
  }
 ],
 "metadata": {
  "language_info": {
   "name": "python"
  },
  "orig_nbformat": 4
 },
 "nbformat": 4,
 "nbformat_minor": 2
}
